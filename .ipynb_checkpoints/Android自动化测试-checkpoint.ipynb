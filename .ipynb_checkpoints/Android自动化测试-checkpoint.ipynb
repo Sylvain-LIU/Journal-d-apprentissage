{
 "cells": [
  {
   "cell_type": "markdown",
   "metadata": {},
   "source": [
    "### 自动化框架 UIAutomator"
   ]
  },
  {
   "cell_type": "markdown",
   "metadata": {},
   "source": [
    "首先，UIAutomator通过注入原生事件进行模拟————通过模拟用户操作来与设备用户界面交互以及获取屏幕内容，它依赖于平台的辅助功能API在远程的控件树上获取屏幕内容以及执行一些操作。同时，它也允许通过注入原生事件（即InputEvent）来模拟用户的按键操作和触屏操作。通过调用executeAndWaitForEvern()函数对应用注入不同的事件来进行测试，该函数将接受一个可执行Runnable线程对象来执行事件注入操作。\n",
    "\n",
    "其次，UIAutomation具有很好的耦合性。\n",
    "\n",
    "第三UIAutomation支持跨引用操作————用户可以编写可以跨越多个应用的测试用例脚本了。例如，打开系统设置应用去修改一些设置，然后再与另外一个依赖于该设置的应用进行交互。而这一点，也真好是Instrumentation的缺陷所在。\n",
    "\n",
    "第四，UIAutomation还可以方便地进行事件监控————只需创建一个UIAutomation.OnAccesibilityEventListener的实现类并将它的实例传递给setOnAccessibilityEventListener()方法。监听接口将会在每次有事件触发的时候收到一个发送给onAccessibilityEvent()方法的回调，而参数就是一个描述该事件的AccessibilityEvent的对象。\n",
    "\n",
    "第五，UIAutomation的扩展性也是非常好的————它提供了一系列接口供进行二次开发或一些小工具的开发。\n",
    "\n",
    "第六，UIAutomation还可以借助Instrumentation框架运行————通过调用Instrumentation.getUiAutomation()方法即可获得UiAutomation的一个实例。在adb shell上运行InstrumentationTestCase时只需在instrument命令后加上“-w”选项即可。\n",
    "\n",
    "最后，UIAutomation非常容易上手。"
   ]
  },
  {
   "cell_type": "markdown",
   "metadata": {},
   "source": [
    "### 稳定性测试利器monkey"
   ]
  },
  {
   "cell_type": "markdown",
   "metadata": {},
   "source": [
    "想要发布新版本，先得通过稳定性测试，要想通过稳定性测试，先得通过monkey————Android稳定性测试利器。\n",
    "Monkey的三个基本特征：\n",
    "1.测试的对象仅为引用程序包，有一定的局限性\n",
    "2.Monkey测试使用的事件流数据流是随机的，不能进行自定义\n",
    "3.可对MonkeyTest的对象，事件数量，类型，频率等进行设置。\n",
    "\n",
    "Monkey的基本语法如下：\n",
    "adb shell monkey [options]\n",
    "\n",
    "如果不指定options，Monkey将以无反馈模式启动，并把事件任意发送到安装在目标环境中的全部包。\n",
    "\n",
    "adb shell monkey -p your.package.name -v 500\n",
    "它启动指定的引用程序，并向其发送500个伪随机事件。\n",
    "\n",
    "实例：\n",
    "1.通过eclipse启动一个Android的emulator\n",
    "2.在命令行中输入：adb devices\n",
    "(查看设备连接情况)\n",
    "3.在有设备连接的前提下，在命令行输入：adb shell \n",
    "(进入Shell界面)\n",
    "4.查看data/data文件夹下的应用程序包。我们能测试的应用程序包都在这个目录下面\n",
    "（ls data/data）\n",
    "5.以com.android.settings作为对象进行MonkeyTest\n",
    "（monkey -p com.android.settings -v 500）\n",
    "其中-p表示对象包，-v表示事件数量\n",
    "\n",
    "运行过程中，Emulator中的应用程序在不断地切换画面。\n",
    "\n",
    "按照选定的不同级别的反馈信息，在Monkey中还可以看到其执行过程报告和生成的事件。\n",
    "\n",
    "值得注意的是，我们要了解Monkey测试停止的三个条件：\n",
    "1：如果限定了Monkey运行在一个或几个特定的包上，那么它会监测试图转到其他包的操作，并对其进行阻止。\n",
    "2：如果应用程序崩溃或接受到任何失控异常，Monkey将停止并报错。\n",
    "3：如果应用程序产生了应用程序不响应的错误，Monkey将会停止报错。\n"
   ]
  }
 ],
 "metadata": {
  "kernelspec": {
   "display_name": "Python 3",
   "language": "python",
   "name": "python3"
  },
  "language_info": {
   "codemirror_mode": {
    "name": "ipython",
    "version": 3
   },
   "file_extension": ".py",
   "mimetype": "text/x-python",
   "name": "python",
   "nbconvert_exporter": "python",
   "pygments_lexer": "ipython3",
   "version": "3.5.1"
  }
 },
 "nbformat": 4,
 "nbformat_minor": 0
}
