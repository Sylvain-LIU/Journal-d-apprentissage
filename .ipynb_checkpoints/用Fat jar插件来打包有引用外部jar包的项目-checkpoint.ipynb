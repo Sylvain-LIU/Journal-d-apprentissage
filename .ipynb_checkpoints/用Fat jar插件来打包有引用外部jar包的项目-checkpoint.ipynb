{
 "cells": [
  {
   "cell_type": "markdown",
   "metadata": {},
   "source": [
    "# 用Fat jar插件来打包有引用外部jar包的项目"
   ]
  },
  {
   "cell_type": "markdown",
   "metadata": {},
   "source": [
    "Fat jar 的下载地址：http://sourceforge.net/projects/fjep/\n",
    "\n",
    "下载的文件是net.sf.fjep.fatjar_0.0.31zip\n",
    "\n",
    "插件安装：把Fat jar文件拷贝到eclipse目录下的plugins中，重启eclipse，然后查看Window---preferences, 弹出的窗口中有Fat jar preferences这一项则说明安装成功,没有这一项则未安装成功,需要多做如下几步操作：到eclipse目录下的 configuration---org.eclipse.update，并删除platform.xml文件，然后重新启动eclipse.查看 Window---preferences,发现Fat jar preferences这一项。说明安装成功。\n",
    "另外，最新版的eclipse安装不了，无论是上面的方法还是通过网址（URL：http://kurucz-grafika.de/fatjar）在线安装 ，都安装失败。\n",
    "最后发现，是eclipse版本的问题。不想换eclipse的版本，因为是最新的。 遂百度一个高手改装的32版本的Fat jar。安装后果然能用。\n",
    "\n",
    "打包过程略。只是记录下安装的问题。\n",
    "http://blog.csdn.net/luoweifu/article/details/7791712\n",
    "\n",
    "12-03-2016.\n",
    "\n",
    "补充：\n",
    "用Fat jar打包：右击你的项目，选项列表中有Build Fat jar这一项,选择它,弹出的窗口你会觉得特别亲切,一目了然使用很方便,点击Browser(Main-Class选择你的主类)---next--- finish(勾选你需要一起打包的资源,默认为全部勾选).瞧,jar文件就生成在你的工程项目中了.运行它,一切顺利. \n",
    " \n",
    "\n"
   ]
  }
 ],
 "metadata": {
  "kernelspec": {
   "display_name": "Python 3",
   "language": "python",
   "name": "python3"
  },
  "language_info": {
   "codemirror_mode": {
    "name": "ipython",
    "version": 3
   },
   "file_extension": ".py",
   "mimetype": "text/x-python",
   "name": "python",
   "nbconvert_exporter": "python",
   "pygments_lexer": "ipython3",
   "version": "3.5.1"
  }
 },
 "nbformat": 4,
 "nbformat_minor": 0
}
