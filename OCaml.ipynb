{
 "cells": [
  {
   "cell_type": "markdown",
   "metadata": {},
   "source": [
    "# OCaml"
   ]
  },
  {
   "cell_type": "code",
   "execution_count": null,
   "metadata": {
    "collapsed": true
   },
   "outputs": [],
   "source": [
    " 普通函数和递归函数。\n",
    "和源于C的语言不同的是OCaml中的函数一般不是递归，除非用let rec代替let来定义递归函数。\n",
    "栗子： let rec range a b =\n",
    "                if a > b then []\n",
    "                else a :: range (a+1) b\n",
    "这里的range调用它自身。\n",
    "\n",
    "let和let rec的唯一区别是函数名的定义域。如果以上函数是用let定义的，那么调用range会试图寻找一个已经存在的（以前定义的）叫range的函数，而不是现在正在被定义的函数。let允许使用变量本身进行重新定义。例如：\n",
    "let positive_sum a b = \n",
    "     let a = max a 0\n",
    "     and b= max b 0 in\n",
    "     a + b\n",
    "这里let中的a和b重新定义了所绑定的值，因此a+b唆看到的值是let所绑定的新值而不是函数的传参。这样做可以使得只有最新的绑定可见。\n",
    "与其他函数式编程语言类似，OCaml的“变量” 是不可变的，所以与其说是变量，更应该理解成是一种绑定关系。\n",
    "\n",
    "函数的类型\n",
    "对于一个函数f，其参数类型为arg1，，arg2，。。，argn，其返回值类型为rettype，编译器会显示\n",
    "f : arg1 -> arg2 -> ... -> argn -> rettype\n",
    "\n",
    "我们定义的repeated函数需要一个字符串和一个整数为参数，返回一个字符串：\n",
    "repeated : string -> int -> string\n",
    "我们定义的average函数输入两个浮点数并返回一个浮点数：\n",
    "average : float -> float -> float\n",
    "\n",
    "多态函数。\n",
    "栗子：接受任何参数但总是返回3：\n",
    "#let give_me_a_three x = 3 ;;\n",
    "val give_me_a_three : 'a -> int = <fun>\n",
    "OCaml使用一个特殊的占位符来表示“任意类型”，这就是一个单引号后加一个字母。所以上述的函数的类型可以写作：\n",
    "give_me_a_three : ' -> int\n",
    "这里'a表示任意类型。\n",
    "\n",
    "类型推导。\n",
    "简单地说：我们不需要声明函数和变量的类型，因为OCaml自己会知道。而且OCaml会一直检查所有的类型匹配。\n",
    "average函数：\n",
    "let average a b = \n",
    "     (a +. b) /. 2.0;;\n",
    "OCaml自己判断出了这个函数需要两个浮点数参数和返回一个浮点数。\n",
    "首先它看a和b在哪里使用，这里是在表达式（a +. b）中。这里+.本身是一个需要两个浮点数参数的函数，所以通过简单推导，a和b两个都是浮点数。\n",
    "其次，函数/.返回浮点类型，所以average函数同样返回浮点类型。因此，结论就是average的类型如下：\n",
    "average : float -> float -> float\n",
    "类型推导不仅适用于程序，也适用于大规模的程序。它是一个主要的节省时间的特性，因为它消除了一系列在其他语言中常见的造成segfult, NullPointerException和ClassCasException的错误。\n",
    "\n",
    "接下来，就是正式的学习。\n",
    "http://ocaml.org/learn/tutorials/index.zh.html\n",
    "\n",
    "17-03-2016\n"
   ]
  },
  {
   "cell_type": "code",
   "execution_count": null,
   "metadata": {
    "collapsed": true
   },
   "outputs": [],
   "source": []
  }
 ],
 "metadata": {
  "kernelspec": {
   "display_name": "Python 3",
   "language": "python",
   "name": "python3"
  },
  "language_info": {
   "codemirror_mode": {
    "name": "ipython",
    "version": 3
   },
   "file_extension": ".py",
   "mimetype": "text/x-python",
   "name": "python",
   "nbconvert_exporter": "python",
   "pygments_lexer": "ipython3",
   "version": "3.5.1"
  }
 },
 "nbformat": 4,
 "nbformat_minor": 0
}
