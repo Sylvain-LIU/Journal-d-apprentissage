{
 "cells": [
  {
   "cell_type": "markdown",
   "metadata": {},
   "source": [
    "# 函数编程——OCaml语言初尝试"
   ]
  },
  {
   "cell_type": "code",
   "execution_count": null,
   "metadata": {
    "collapsed": true
   },
   "outputs": [],
   "source": [
    " http://ocaml.org/learn/tutorials/basics.zh.html\n",
    "OCaml的语法很简洁。\n",
    "\n",
    "函数输入两个浮点数后计算它们的平均值：\n",
    "let average a b=\n",
    "(a+.b)/.2.0;;\n",
    "\n",
    " OCaml中无需定义a和b的类型。\n",
    "\n",
    "OCaml是强静态类型的语言。（也就是没有perl中的动态类型）。\n",
    "\n",
    "OCaml用类型推导（type inference）来找出类型，所以无需注明类型。\n",
    "\n",
    "OCaml不做任何的隐式转换。如果需要浮点数，必须写2.0，因为2是一个整数。Ocaml从不执行任何自动类型转换。\n",
    "\n",
    "由于type inference的副作用，Ocaml不允许任何形式的重载（包括操作符重载）。它用不同的运算符来表示“两个整数相加（用+）”和“两个浮点数相加（用+.）”。注意后者有一个点号。 其他的运算符号也是这样。\n",
    "\n",
    "Ocaml返回函数的最后的表达式值，因此我们没有必要如C中一样写return。 \n",
    "\n",
    "Ocaml中的基本类型和C中差不多，略。int，float，bool，char，string，需要注意的是还有一个unit，写作（）。OCaml内部使用int中的一位来自动化管理内存（垃圾收集）。因此基本类型是31位而非32位（64位就是63了）。OCaml基本类型中没有提供无符号整数类型。可以使用nativeint来达到同样效果。目测是没有单精度浮点数。\n",
    "\n",
    "OCaml提供char类型来表示字符。但可惜的是char类型不支持Unicode或者UTF-8（两种编码类型）。\n",
    "\n",
    "字符串并非只是字符的链表，它们有自己更高效的内部表达方式。\n",
    "\n",
    "unit类型有点像c中的void类型。\n",
    "\n",
    "在源于C的语言中，int类型在某些情况下会自动提升成浮点类型。例如1+2.5，那么第一个参数（整数类型）会提升成浮点数，计算结果也是一个浮点数。这等价于写了（（double）1）+2.5，在这里自动执行了隐式转换。\n",
    "\n",
    "OCaml从不执行隐式转换。在OCaml中，1+2.5犯了类型错误。操作符 + 要求两个整数作为参数，而我们这里给出了一个整数一个浮点数，因此它会报错。要使两个浮点数相加，需要用操作符+.（加号后面有点号。）\n",
    "\n",
    "OCaml不会自动把int提升到float，因此1+.2.5;;也是错误的。如果我们确实需要让一个整数与一个浮点数相加，可以用显式转换：\n",
    "float_of_int i +.f;;     (*i和f是两个变量*) 。类似的有int_of_float, char_of_int, int_of_char, string_of_int等等。但float_of_int可以缩写为float，所以上面的例子可以写为：float i+.f;;\n",
    "\n",
    "普通函数和递归函数。先到这。睡了。\n",
    "\n",
    " 16-03-2016\n",
    "\n"
   ]
  },
  {
   "cell_type": "code",
   "execution_count": null,
   "metadata": {
    "collapsed": true
   },
   "outputs": [],
   "source": []
  }
 ],
 "metadata": {
  "kernelspec": {
   "display_name": "Python 3",
   "language": "python",
   "name": "python3"
  },
  "language_info": {
   "codemirror_mode": {
    "name": "ipython",
    "version": 3
   },
   "file_extension": ".py",
   "mimetype": "text/x-python",
   "name": "python",
   "nbconvert_exporter": "python",
   "pygments_lexer": "ipython3",
   "version": "3.5.1"
  }
 },
 "nbformat": 4,
 "nbformat_minor": 0
}
