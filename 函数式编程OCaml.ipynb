{
 "cells": [
  {
   "cell_type": "markdown",
   "metadata": {},
   "source": [
    "# 函数式编程OCaml"
   ]
  },
  {
   "cell_type": "code",
   "execution_count": null,
   "metadata": {
    "collapsed": true
   },
   "outputs": [],
   "source": [
    "递归例子：链表中最大的元素\n",
    "let rec list_max  xs =\n",
    "match xs with\n",
    "| [] -> failwith \"list_max called on empty list\"\n",
    "| [x]-> x\n",
    "| x :: remainder -> max x (list_max remainder);;\n",
    "(* test *)\n",
    "list_max [1;2;3;4;1];;\n",
    "结果  - : int = 4\n",
    "list_max [6];;\n",
    "结果  - : int = 6 \n",
    "list_max [];;\n",
    "结果  Exception: Failure \"list_max called on empty list\". \n",
    "\n",
    "Map模块\n",
    "Map创建一种映射关系。比方说，我们需要关联一组用户及其对应的密码，这里存在从用户到密码的映射关系，可以通过Map模块通过函数式的方式相当迅速地来处理。 \n",
    "\n",
    "函数式编程\n",
    "let double x = x * 2 in\n",
    "List.map double [1;2;3];;\n",
    "结果 -:int list = [2;4;6] \n",
    "\n",
    "let multiply n list =\n",
    "let f x = n * x in\n",
    "List.map f list;;\n",
    "multiply 2 [1;2;3];;\n",
    "结果 -:int list = [2;4;6] \n",
    "\n",
    "28-03-2016 "
   ]
  },
  {
   "cell_type": "code",
   "execution_count": null,
   "metadata": {
    "collapsed": true
   },
   "outputs": [],
   "source": []
  }
 ],
 "metadata": {
  "kernelspec": {
   "display_name": "Python 3",
   "language": "python",
   "name": "python3"
  },
  "language_info": {
   "codemirror_mode": {
    "name": "ipython",
    "version": 3
   },
   "file_extension": ".py",
   "mimetype": "text/x-python",
   "name": "python",
   "nbconvert_exporter": "python",
   "pygments_lexer": "ipython3",
   "version": "3.5.1"
  }
 },
 "nbformat": 4,
 "nbformat_minor": 0
}
