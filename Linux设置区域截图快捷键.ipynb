{
 "cells": [
  {
   "cell_type": "markdown",
   "metadata": {},
   "source": [
    "# Linux设置区域截图快捷键"
   ]
  },
  {
   "cell_type": "code",
   "execution_count": null,
   "metadata": {
    "collapsed": true
   },
   "outputs": [],
   "source": [
    "Linux截图命令为gnome-screeshot。\n",
    "查看命令为gnome-screenshot ，虽然有区域截图的功能，但每次手动打开程序，选择区域截图，再点击抓图，太麻烦。\n",
    "\n",
    "我理想效果，按下快捷键直接实现区域截图功能。\n",
    "\n",
    "通过man gnome-screenshot 学习，此命令各个参数功能，-a区域截图，-i为交互信息（即弹出的提示信息）\n",
    "\n",
    "解决方法：\n",
    "\n",
    "【 系统，首选项，键盘快捷键】，添加自定义快捷键，名称【区域抓图】，命令【gnome-screenshot -a】\n",
    "\n",
    "将快捷键设置为ctrl+alt+q，这与windows下QQ截图快捷键一致。\n",
    "\n",
    " 按下ctrl+alt+q，选定区域，弹出保存还是复制粘帖板等选项。"
   ]
  }
 ],
 "metadata": {
  "kernelspec": {
   "display_name": "Python 3",
   "language": "python",
   "name": "python3"
  }
 },
 "nbformat": 4,
 "nbformat_minor": 0
}
